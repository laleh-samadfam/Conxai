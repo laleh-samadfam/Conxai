{
 "cells": [
  {
   "cell_type": "code",
   "execution_count": 1,
   "id": "dependent-cookie",
   "metadata": {},
   "outputs": [],
   "source": [
    "from os import walk\n",
    "import pandas as pd"
   ]
  },
  {
   "cell_type": "code",
   "execution_count": 2,
   "id": "cleared-register",
   "metadata": {},
   "outputs": [
    {
     "name": "stdout",
     "output_type": "stream",
     "text": [
      "/home/laleh/PycharmProjects/conxai\n"
     ]
    }
   ],
   "source": [
    "cd /home/laleh/PycharmProjects/conxai"
   ]
  },
  {
   "cell_type": "code",
   "execution_count": 3,
   "id": "electrical-connecticut",
   "metadata": {},
   "outputs": [],
   "source": [
    "label_path = 'data/raw data/stage_labels.csv'\n",
    "data_folder_path = 'data/raw data/foundation_images'"
   ]
  },
  {
   "cell_type": "code",
   "execution_count": 4,
   "id": "intermediate-dairy",
   "metadata": {},
   "outputs": [],
   "source": [
    "# Load image names from the CSV file\n",
    "df = pd.read_csv(label_path, sep=';')"
   ]
  },
  {
   "cell_type": "code",
   "execution_count": 5,
   "id": "automotive-float",
   "metadata": {},
   "outputs": [
    {
     "data": {
      "text/plain": [
       "(4467, 2)"
      ]
     },
     "execution_count": 5,
     "metadata": {},
     "output_type": "execute_result"
    }
   ],
   "source": [
    "# Shape of data\n",
    "df.shape"
   ]
  },
  {
   "cell_type": "code",
   "execution_count": 6,
   "id": "stunning-player",
   "metadata": {
    "scrolled": true
   },
   "outputs": [
    {
     "data": {
      "text/html": [
       "<div>\n",
       "<style scoped>\n",
       "    .dataframe tbody tr th:only-of-type {\n",
       "        vertical-align: middle;\n",
       "    }\n",
       "\n",
       "    .dataframe tbody tr th {\n",
       "        vertical-align: top;\n",
       "    }\n",
       "\n",
       "    .dataframe thead th {\n",
       "        text-align: right;\n",
       "    }\n",
       "</style>\n",
       "<table border=\"1\" class=\"dataframe\">\n",
       "  <thead>\n",
       "    <tr style=\"text-align: right;\">\n",
       "      <th></th>\n",
       "      <th>image_name</th>\n",
       "      <th>label</th>\n",
       "    </tr>\n",
       "  </thead>\n",
       "  <tbody>\n",
       "    <tr>\n",
       "      <th>count</th>\n",
       "      <td>4467</td>\n",
       "      <td>4467</td>\n",
       "    </tr>\n",
       "    <tr>\n",
       "      <th>unique</th>\n",
       "      <td>4090</td>\n",
       "      <td>7</td>\n",
       "    </tr>\n",
       "    <tr>\n",
       "      <th>top</th>\n",
       "      <td>cam3_f2023-06-25T10:30:31.101Z.jpg_11.png</td>\n",
       "      <td>Stage-2_Formwork-1</td>\n",
       "    </tr>\n",
       "    <tr>\n",
       "      <th>freq</th>\n",
       "      <td>3</td>\n",
       "      <td>1046</td>\n",
       "    </tr>\n",
       "  </tbody>\n",
       "</table>\n",
       "</div>"
      ],
      "text/plain": [
       "                                       image_name               label\n",
       "count                                        4467                4467\n",
       "unique                                       4090                   7\n",
       "top     cam3_f2023-06-25T10:30:31.101Z.jpg_11.png  Stage-2_Formwork-1\n",
       "freq                                            3                1046"
      ]
     },
     "execution_count": 6,
     "metadata": {},
     "output_type": "execute_result"
    }
   ],
   "source": [
    "# Statistics of data\n",
    "df.describe()"
   ]
  },
  {
   "cell_type": "code",
   "execution_count": 7,
   "id": "nasty-makeup",
   "metadata": {},
   "outputs": [
    {
     "data": {
      "text/plain": [
       "Stage-2_Formwork-1    1046\n",
       "Stage-3_Concrete-1     956\n",
       "Stage-1_Rebar          749\n",
       "Stage-6_Soil           721\n",
       "Stage-5_Concrete-2     616\n",
       "Stage-4_Formwork-2     341\n",
       "Stage-0_Screed          38\n",
       "Name: label, dtype: int64"
      ]
     },
     "execution_count": 7,
     "metadata": {},
     "output_type": "execute_result"
    }
   ],
   "source": [
    "# Label Distribution\n",
    "df['label'].value_counts()"
   ]
  },
  {
   "cell_type": "code",
   "execution_count": 8,
   "id": "material-insulation",
   "metadata": {},
   "outputs": [
    {
     "data": {
      "text/plain": [
       "image_name    0\n",
       "label         0\n",
       "dtype: int64"
      ]
     },
     "execution_count": 8,
     "metadata": {},
     "output_type": "execute_result"
    }
   ],
   "source": [
    "# Null Values\n",
    "df.isnull().sum()"
   ]
  },
  {
   "cell_type": "code",
   "execution_count": 9,
   "id": "partial-warren",
   "metadata": {},
   "outputs": [],
   "source": [
    "clean_df = df.drop_duplicates()"
   ]
  },
  {
   "cell_type": "code",
   "execution_count": 10,
   "id": "decent-garlic",
   "metadata": {},
   "outputs": [
    {
     "data": {
      "text/html": [
       "<div>\n",
       "<style scoped>\n",
       "    .dataframe tbody tr th:only-of-type {\n",
       "        vertical-align: middle;\n",
       "    }\n",
       "\n",
       "    .dataframe tbody tr th {\n",
       "        vertical-align: top;\n",
       "    }\n",
       "\n",
       "    .dataframe thead th {\n",
       "        text-align: right;\n",
       "    }\n",
       "</style>\n",
       "<table border=\"1\" class=\"dataframe\">\n",
       "  <thead>\n",
       "    <tr style=\"text-align: right;\">\n",
       "      <th></th>\n",
       "      <th>image_name</th>\n",
       "      <th>label</th>\n",
       "    </tr>\n",
       "  </thead>\n",
       "  <tbody>\n",
       "    <tr>\n",
       "      <th>count</th>\n",
       "      <td>4090</td>\n",
       "      <td>4090</td>\n",
       "    </tr>\n",
       "    <tr>\n",
       "      <th>unique</th>\n",
       "      <td>4090</td>\n",
       "      <td>7</td>\n",
       "    </tr>\n",
       "    <tr>\n",
       "      <th>top</th>\n",
       "      <td>cam1_f2023-05-30T10:30:13.705Z.jpg_0.png</td>\n",
       "      <td>Stage-2_Formwork-1</td>\n",
       "    </tr>\n",
       "    <tr>\n",
       "      <th>freq</th>\n",
       "      <td>1</td>\n",
       "      <td>955</td>\n",
       "    </tr>\n",
       "  </tbody>\n",
       "</table>\n",
       "</div>"
      ],
      "text/plain": [
       "                                      image_name               label\n",
       "count                                       4090                4090\n",
       "unique                                      4090                   7\n",
       "top     cam1_f2023-05-30T10:30:13.705Z.jpg_0.png  Stage-2_Formwork-1\n",
       "freq                                           1                 955"
      ]
     },
     "execution_count": 10,
     "metadata": {},
     "output_type": "execute_result"
    }
   ],
   "source": [
    "clean_df.describe()"
   ]
  },
  {
   "cell_type": "code",
   "execution_count": 11,
   "id": "polish-digest",
   "metadata": {},
   "outputs": [
    {
     "data": {
      "text/plain": [
       "Stage-2_Formwork-1    955\n",
       "Stage-3_Concrete-1    868\n",
       "Stage-6_Soil          710\n",
       "Stage-1_Rebar         661\n",
       "Stage-5_Concrete-2    549\n",
       "Stage-4_Formwork-2    309\n",
       "Stage-0_Screed         38\n",
       "Name: label, dtype: int64"
      ]
     },
     "execution_count": 11,
     "metadata": {},
     "output_type": "execute_result"
    }
   ],
   "source": [
    " clean_df['label'].value_counts()"
   ]
  },
  {
   "cell_type": "code",
   "execution_count": 12,
   "id": "portuguese-crossing",
   "metadata": {},
   "outputs": [],
   "source": [
    "not_in_folders = pd.read_csv('source/preprocessing/missing_in_folders.txt')"
   ]
  },
  {
   "cell_type": "code",
   "execution_count": 13,
   "id": "solid-pittsburgh",
   "metadata": {},
   "outputs": [],
   "source": [
    "clean_df = clean_df[~clean_df['image_name'].isin(not_in_folders['name'])]"
   ]
  },
  {
   "cell_type": "code",
   "execution_count": 14,
   "id": "tribal-satisfaction",
   "metadata": {},
   "outputs": [
    {
     "data": {
      "text/html": [
       "<div>\n",
       "<style scoped>\n",
       "    .dataframe tbody tr th:only-of-type {\n",
       "        vertical-align: middle;\n",
       "    }\n",
       "\n",
       "    .dataframe tbody tr th {\n",
       "        vertical-align: top;\n",
       "    }\n",
       "\n",
       "    .dataframe thead th {\n",
       "        text-align: right;\n",
       "    }\n",
       "</style>\n",
       "<table border=\"1\" class=\"dataframe\">\n",
       "  <thead>\n",
       "    <tr style=\"text-align: right;\">\n",
       "      <th></th>\n",
       "      <th>image_name</th>\n",
       "      <th>label</th>\n",
       "    </tr>\n",
       "  </thead>\n",
       "  <tbody>\n",
       "    <tr>\n",
       "      <th>count</th>\n",
       "      <td>3565</td>\n",
       "      <td>3565</td>\n",
       "    </tr>\n",
       "    <tr>\n",
       "      <th>unique</th>\n",
       "      <td>3565</td>\n",
       "      <td>7</td>\n",
       "    </tr>\n",
       "    <tr>\n",
       "      <th>top</th>\n",
       "      <td>cam1_f2023-05-30T10:30:13.705Z.jpg_0.png</td>\n",
       "      <td>Stage-2_Formwork-1</td>\n",
       "    </tr>\n",
       "    <tr>\n",
       "      <th>freq</th>\n",
       "      <td>1</td>\n",
       "      <td>953</td>\n",
       "    </tr>\n",
       "  </tbody>\n",
       "</table>\n",
       "</div>"
      ],
      "text/plain": [
       "                                      image_name               label\n",
       "count                                       3565                3565\n",
       "unique                                      3565                   7\n",
       "top     cam1_f2023-05-30T10:30:13.705Z.jpg_0.png  Stage-2_Formwork-1\n",
       "freq                                           1                 953"
      ]
     },
     "execution_count": 14,
     "metadata": {},
     "output_type": "execute_result"
    }
   ],
   "source": [
    "clean_df.describe()"
   ]
  },
  {
   "cell_type": "code",
   "execution_count": 15,
   "id": "recent-journalist",
   "metadata": {},
   "outputs": [
    {
     "data": {
      "text/plain": [
       "Stage-2_Formwork-1    953\n",
       "Stage-3_Concrete-1    801\n",
       "Stage-1_Rebar         661\n",
       "Stage-5_Concrete-2    549\n",
       "Stage-4_Formwork-2    309\n",
       "Stage-6_Soil          254\n",
       "Stage-0_Screed         38\n",
       "Name: label, dtype: int64"
      ]
     },
     "execution_count": 15,
     "metadata": {},
     "output_type": "execute_result"
    }
   ],
   "source": [
    " clean_df['label'].value_counts()"
   ]
  },
  {
   "cell_type": "code",
   "execution_count": 16,
   "id": "timely-injury",
   "metadata": {},
   "outputs": [
    {
     "data": {
      "text/plain": [
       "(3565, 2)"
      ]
     },
     "execution_count": 16,
     "metadata": {},
     "output_type": "execute_result"
    }
   ],
   "source": [
    "clean_df.shape"
   ]
  },
  {
   "cell_type": "code",
   "execution_count": 17,
   "id": "complete-animal",
   "metadata": {},
   "outputs": [],
   "source": [
    "clean_df.to_csv('data/processed data/clean_labels.csv')"
   ]
  },
  {
   "cell_type": "code",
   "execution_count": null,
   "id": "welsh-simpson",
   "metadata": {},
   "outputs": [],
   "source": []
  }
 ],
 "metadata": {
  "kernelspec": {
   "display_name": "Python 3",
   "language": "python",
   "name": "python3"
  },
  "language_info": {
   "codemirror_mode": {
    "name": "ipython",
    "version": 3
   },
   "file_extension": ".py",
   "mimetype": "text/x-python",
   "name": "python",
   "nbconvert_exporter": "python",
   "pygments_lexer": "ipython3",
   "version": "3.8.8"
  }
 },
 "nbformat": 4,
 "nbformat_minor": 5
}
