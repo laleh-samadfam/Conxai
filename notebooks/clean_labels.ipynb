{
 "cells": [
  {
   "cell_type": "code",
   "execution_count": 1,
   "id": "dependent-cookie",
   "metadata": {},
   "outputs": [],
   "source": [
    "from os import walk\n",
    "import pandas as pd\n",
    "import re"
   ]
  },
  {
   "cell_type": "code",
   "execution_count": 2,
   "id": "cleared-register",
   "metadata": {},
   "outputs": [
    {
     "name": "stdout",
     "output_type": "stream",
     "text": [
      "/home/laleh/PycharmProjects/Conxai/Conxai\n"
     ]
    }
   ],
   "source": [
    "cd /home/laleh/PycharmProjects/Conxai/Conxai"
   ]
  },
  {
   "cell_type": "code",
   "execution_count": 3,
   "id": "electrical-connecticut",
   "metadata": {},
   "outputs": [],
   "source": [
    "label_path = 'data/raw data/stage_labels.csv'\n",
    "data_folder_path = 'data/raw data/foundation_images'"
   ]
  },
  {
   "cell_type": "code",
   "execution_count": 4,
   "id": "intermediate-dairy",
   "metadata": {},
   "outputs": [],
   "source": [
    "# Load image names from the CSV file\n",
    "df = pd.read_csv(label_path, sep=';')"
   ]
  },
  {
   "cell_type": "code",
   "execution_count": 5,
   "id": "automotive-float",
   "metadata": {},
   "outputs": [
    {
     "data": {
      "text/plain": [
       "(4467, 2)"
      ]
     },
     "execution_count": 5,
     "metadata": {},
     "output_type": "execute_result"
    }
   ],
   "source": [
    "# Shape of data\n",
    "df.shape"
   ]
  },
  {
   "cell_type": "code",
   "execution_count": 6,
   "id": "stunning-player",
   "metadata": {
    "scrolled": true
   },
   "outputs": [
    {
     "data": {
      "text/html": [
       "<div>\n",
       "<style scoped>\n",
       "    .dataframe tbody tr th:only-of-type {\n",
       "        vertical-align: middle;\n",
       "    }\n",
       "\n",
       "    .dataframe tbody tr th {\n",
       "        vertical-align: top;\n",
       "    }\n",
       "\n",
       "    .dataframe thead th {\n",
       "        text-align: right;\n",
       "    }\n",
       "</style>\n",
       "<table border=\"1\" class=\"dataframe\">\n",
       "  <thead>\n",
       "    <tr style=\"text-align: right;\">\n",
       "      <th></th>\n",
       "      <th>image_name</th>\n",
       "      <th>label</th>\n",
       "    </tr>\n",
       "  </thead>\n",
       "  <tbody>\n",
       "    <tr>\n",
       "      <th>count</th>\n",
       "      <td>4467</td>\n",
       "      <td>4467</td>\n",
       "    </tr>\n",
       "    <tr>\n",
       "      <th>unique</th>\n",
       "      <td>4090</td>\n",
       "      <td>7</td>\n",
       "    </tr>\n",
       "    <tr>\n",
       "      <th>top</th>\n",
       "      <td>cam3_f2023-06-25T10:30:31.101Z.jpg_11.png</td>\n",
       "      <td>Stage-2_Formwork-1</td>\n",
       "    </tr>\n",
       "    <tr>\n",
       "      <th>freq</th>\n",
       "      <td>3</td>\n",
       "      <td>1046</td>\n",
       "    </tr>\n",
       "  </tbody>\n",
       "</table>\n",
       "</div>"
      ],
      "text/plain": [
       "                                       image_name               label\n",
       "count                                        4467                4467\n",
       "unique                                       4090                   7\n",
       "top     cam3_f2023-06-25T10:30:31.101Z.jpg_11.png  Stage-2_Formwork-1\n",
       "freq                                            3                1046"
      ]
     },
     "execution_count": 6,
     "metadata": {},
     "output_type": "execute_result"
    }
   ],
   "source": [
    "# Statistics of data\n",
    "df.describe()"
   ]
  },
  {
   "cell_type": "code",
   "execution_count": 7,
   "id": "nasty-makeup",
   "metadata": {},
   "outputs": [
    {
     "data": {
      "text/plain": [
       "Stage-2_Formwork-1    1046\n",
       "Stage-3_Concrete-1     956\n",
       "Stage-1_Rebar          749\n",
       "Stage-6_Soil           721\n",
       "Stage-5_Concrete-2     616\n",
       "Stage-4_Formwork-2     341\n",
       "Stage-0_Screed          38\n",
       "Name: label, dtype: int64"
      ]
     },
     "execution_count": 7,
     "metadata": {},
     "output_type": "execute_result"
    }
   ],
   "source": [
    "# Label Distribution\n",
    "df['label'].value_counts()"
   ]
  },
  {
   "cell_type": "code",
   "execution_count": 8,
   "id": "material-insulation",
   "metadata": {},
   "outputs": [
    {
     "data": {
      "text/plain": [
       "image_name    0\n",
       "label         0\n",
       "dtype: int64"
      ]
     },
     "execution_count": 8,
     "metadata": {},
     "output_type": "execute_result"
    }
   ],
   "source": [
    "# Null Values\n",
    "df.isnull().sum()"
   ]
  },
  {
   "cell_type": "code",
   "execution_count": 9,
   "id": "partial-warren",
   "metadata": {},
   "outputs": [],
   "source": [
    "clean_df = df.drop_duplicates()"
   ]
  },
  {
   "cell_type": "code",
   "execution_count": 10,
   "id": "decent-garlic",
   "metadata": {},
   "outputs": [
    {
     "data": {
      "text/html": [
       "<div>\n",
       "<style scoped>\n",
       "    .dataframe tbody tr th:only-of-type {\n",
       "        vertical-align: middle;\n",
       "    }\n",
       "\n",
       "    .dataframe tbody tr th {\n",
       "        vertical-align: top;\n",
       "    }\n",
       "\n",
       "    .dataframe thead th {\n",
       "        text-align: right;\n",
       "    }\n",
       "</style>\n",
       "<table border=\"1\" class=\"dataframe\">\n",
       "  <thead>\n",
       "    <tr style=\"text-align: right;\">\n",
       "      <th></th>\n",
       "      <th>image_name</th>\n",
       "      <th>label</th>\n",
       "    </tr>\n",
       "  </thead>\n",
       "  <tbody>\n",
       "    <tr>\n",
       "      <th>count</th>\n",
       "      <td>4090</td>\n",
       "      <td>4090</td>\n",
       "    </tr>\n",
       "    <tr>\n",
       "      <th>unique</th>\n",
       "      <td>4090</td>\n",
       "      <td>7</td>\n",
       "    </tr>\n",
       "    <tr>\n",
       "      <th>top</th>\n",
       "      <td>cam1_f2023-05-30T10:30:13.705Z.jpg_0.png</td>\n",
       "      <td>Stage-2_Formwork-1</td>\n",
       "    </tr>\n",
       "    <tr>\n",
       "      <th>freq</th>\n",
       "      <td>1</td>\n",
       "      <td>955</td>\n",
       "    </tr>\n",
       "  </tbody>\n",
       "</table>\n",
       "</div>"
      ],
      "text/plain": [
       "                                      image_name               label\n",
       "count                                       4090                4090\n",
       "unique                                      4090                   7\n",
       "top     cam1_f2023-05-30T10:30:13.705Z.jpg_0.png  Stage-2_Formwork-1\n",
       "freq                                           1                 955"
      ]
     },
     "execution_count": 10,
     "metadata": {},
     "output_type": "execute_result"
    }
   ],
   "source": [
    "clean_df.describe()"
   ]
  },
  {
   "cell_type": "code",
   "execution_count": 11,
   "id": "polish-digest",
   "metadata": {},
   "outputs": [
    {
     "data": {
      "text/plain": [
       "Stage-2_Formwork-1    955\n",
       "Stage-3_Concrete-1    868\n",
       "Stage-6_Soil          710\n",
       "Stage-1_Rebar         661\n",
       "Stage-5_Concrete-2    549\n",
       "Stage-4_Formwork-2    309\n",
       "Stage-0_Screed         38\n",
       "Name: label, dtype: int64"
      ]
     },
     "execution_count": 11,
     "metadata": {},
     "output_type": "execute_result"
    }
   ],
   "source": [
    " clean_df['label'].value_counts()"
   ]
  },
  {
   "cell_type": "code",
   "execution_count": 12,
   "id": "portuguese-crossing",
   "metadata": {},
   "outputs": [],
   "source": [
    "not_in_folders = pd.read_csv('source/preprocessing/missing_in_folders.txt')"
   ]
  },
  {
   "cell_type": "code",
   "execution_count": 13,
   "id": "solid-pittsburgh",
   "metadata": {},
   "outputs": [],
   "source": [
    "clean_df = clean_df[~clean_df['image_name'].isin(not_in_folders['name'])]"
   ]
  },
  {
   "cell_type": "code",
   "execution_count": 14,
   "id": "tribal-satisfaction",
   "metadata": {},
   "outputs": [
    {
     "data": {
      "text/html": [
       "<div>\n",
       "<style scoped>\n",
       "    .dataframe tbody tr th:only-of-type {\n",
       "        vertical-align: middle;\n",
       "    }\n",
       "\n",
       "    .dataframe tbody tr th {\n",
       "        vertical-align: top;\n",
       "    }\n",
       "\n",
       "    .dataframe thead th {\n",
       "        text-align: right;\n",
       "    }\n",
       "</style>\n",
       "<table border=\"1\" class=\"dataframe\">\n",
       "  <thead>\n",
       "    <tr style=\"text-align: right;\">\n",
       "      <th></th>\n",
       "      <th>image_name</th>\n",
       "      <th>label</th>\n",
       "    </tr>\n",
       "  </thead>\n",
       "  <tbody>\n",
       "    <tr>\n",
       "      <th>count</th>\n",
       "      <td>3565</td>\n",
       "      <td>3565</td>\n",
       "    </tr>\n",
       "    <tr>\n",
       "      <th>unique</th>\n",
       "      <td>3565</td>\n",
       "      <td>7</td>\n",
       "    </tr>\n",
       "    <tr>\n",
       "      <th>top</th>\n",
       "      <td>cam1_f2023-05-30T10:30:13.705Z.jpg_0.png</td>\n",
       "      <td>Stage-2_Formwork-1</td>\n",
       "    </tr>\n",
       "    <tr>\n",
       "      <th>freq</th>\n",
       "      <td>1</td>\n",
       "      <td>953</td>\n",
       "    </tr>\n",
       "  </tbody>\n",
       "</table>\n",
       "</div>"
      ],
      "text/plain": [
       "                                      image_name               label\n",
       "count                                       3565                3565\n",
       "unique                                      3565                   7\n",
       "top     cam1_f2023-05-30T10:30:13.705Z.jpg_0.png  Stage-2_Formwork-1\n",
       "freq                                           1                 953"
      ]
     },
     "execution_count": 14,
     "metadata": {},
     "output_type": "execute_result"
    }
   ],
   "source": [
    "clean_df.describe()"
   ]
  },
  {
   "cell_type": "code",
   "execution_count": 15,
   "id": "recent-journalist",
   "metadata": {},
   "outputs": [
    {
     "data": {
      "text/plain": [
       "Stage-2_Formwork-1    953\n",
       "Stage-3_Concrete-1    801\n",
       "Stage-1_Rebar         661\n",
       "Stage-5_Concrete-2    549\n",
       "Stage-4_Formwork-2    309\n",
       "Stage-6_Soil          254\n",
       "Stage-0_Screed         38\n",
       "Name: label, dtype: int64"
      ]
     },
     "execution_count": 15,
     "metadata": {},
     "output_type": "execute_result"
    }
   ],
   "source": [
    " clean_df['label'].value_counts()"
   ]
  },
  {
   "cell_type": "code",
   "execution_count": 16,
   "id": "timely-injury",
   "metadata": {},
   "outputs": [
    {
     "data": {
      "text/plain": [
       "(3565, 2)"
      ]
     },
     "execution_count": 16,
     "metadata": {},
     "output_type": "execute_result"
    }
   ],
   "source": [
    "clean_df.shape"
   ]
  },
  {
   "cell_type": "code",
   "execution_count": null,
   "id": "complete-animal",
   "metadata": {},
   "outputs": [],
   "source": []
  },
  {
   "cell_type": "code",
   "execution_count": 17,
   "id": "welsh-simpson",
   "metadata": {},
   "outputs": [],
   "source": [
    "def parse_filename(file_name):\n",
    "    pattern = r'cam(\\d)_f(\\d{4}-\\d{2}-\\d{2}T\\d{2}:\\d{2}:\\d{2}\\.\\d{3}Z)\\.jpg_(\\d+)\\.png'\n",
    "\n",
    "    match = re.match(pattern, file_name)\n",
    "\n",
    "    if match:\n",
    "        c = int(match.group(1))\n",
    "        t = match.group(2)\n",
    "        j = int(match.group(3))\n",
    "        return pd.Series({'c': c, 't': t, 'j': j})\n",
    "    else:\n",
    "        return pd.Series({'c': None, 't': None, 'j': None})\n",
    "\n"
   ]
  },
  {
   "cell_type": "code",
   "execution_count": 18,
   "id": "naughty-personal",
   "metadata": {},
   "outputs": [],
   "source": [
    "parsed_info = clean_df['image_name'].apply(parse_filename)\n",
    "\n",
    "# Add the parsed information as new columns in the DataFrame\n",
    "clean_df[['c', 't', 'j']] = parsed_info\n"
   ]
  },
  {
   "cell_type": "code",
   "execution_count": 19,
   "id": "miniature-ministry",
   "metadata": {},
   "outputs": [
    {
     "data": {
      "text/html": [
       "<div>\n",
       "<style scoped>\n",
       "    .dataframe tbody tr th:only-of-type {\n",
       "        vertical-align: middle;\n",
       "    }\n",
       "\n",
       "    .dataframe tbody tr th {\n",
       "        vertical-align: top;\n",
       "    }\n",
       "\n",
       "    .dataframe thead th {\n",
       "        text-align: right;\n",
       "    }\n",
       "</style>\n",
       "<table border=\"1\" class=\"dataframe\">\n",
       "  <thead>\n",
       "    <tr style=\"text-align: right;\">\n",
       "      <th></th>\n",
       "      <th>image_name</th>\n",
       "      <th>label</th>\n",
       "      <th>c</th>\n",
       "      <th>t</th>\n",
       "      <th>j</th>\n",
       "    </tr>\n",
       "  </thead>\n",
       "  <tbody>\n",
       "    <tr>\n",
       "      <th>0</th>\n",
       "      <td>cam1_f2023-05-30T10:30:13.705Z.jpg_0.png</td>\n",
       "      <td>Stage-1_Rebar</td>\n",
       "      <td>1</td>\n",
       "      <td>2023-05-30T10:30:13.705Z</td>\n",
       "      <td>0</td>\n",
       "    </tr>\n",
       "    <tr>\n",
       "      <th>1</th>\n",
       "      <td>cam1_f2023-05-30T10:30:13.705Z.jpg_1.png</td>\n",
       "      <td>Stage-1_Rebar</td>\n",
       "      <td>1</td>\n",
       "      <td>2023-05-30T10:30:13.705Z</td>\n",
       "      <td>1</td>\n",
       "    </tr>\n",
       "    <tr>\n",
       "      <th>2</th>\n",
       "      <td>cam1_f2023-05-30T10:30:13.705Z.jpg_2.png</td>\n",
       "      <td>Stage-1_Rebar</td>\n",
       "      <td>1</td>\n",
       "      <td>2023-05-30T10:30:13.705Z</td>\n",
       "      <td>2</td>\n",
       "    </tr>\n",
       "    <tr>\n",
       "      <th>3</th>\n",
       "      <td>cam1_f2023-05-30T10:30:13.705Z.jpg_3.png</td>\n",
       "      <td>Stage-1_Rebar</td>\n",
       "      <td>1</td>\n",
       "      <td>2023-05-30T10:30:13.705Z</td>\n",
       "      <td>3</td>\n",
       "    </tr>\n",
       "    <tr>\n",
       "      <th>4</th>\n",
       "      <td>cam1_f2023-05-30T10:30:13.705Z.jpg_4.png</td>\n",
       "      <td>Stage-1_Rebar</td>\n",
       "      <td>1</td>\n",
       "      <td>2023-05-30T10:30:13.705Z</td>\n",
       "      <td>4</td>\n",
       "    </tr>\n",
       "    <tr>\n",
       "      <th>...</th>\n",
       "      <td>...</td>\n",
       "      <td>...</td>\n",
       "      <td>...</td>\n",
       "      <td>...</td>\n",
       "      <td>...</td>\n",
       "    </tr>\n",
       "    <tr>\n",
       "      <th>4462</th>\n",
       "      <td>cam4_f2023-06-27T17:00:34.057Z.jpg_5.png</td>\n",
       "      <td>Stage-6_Soil</td>\n",
       "      <td>4</td>\n",
       "      <td>2023-06-27T17:00:34.057Z</td>\n",
       "      <td>5</td>\n",
       "    </tr>\n",
       "    <tr>\n",
       "      <th>4463</th>\n",
       "      <td>cam4_f2023-06-27T17:00:34.057Z.jpg_6.png</td>\n",
       "      <td>Stage-6_Soil</td>\n",
       "      <td>4</td>\n",
       "      <td>2023-06-27T17:00:34.057Z</td>\n",
       "      <td>6</td>\n",
       "    </tr>\n",
       "    <tr>\n",
       "      <th>4464</th>\n",
       "      <td>cam4_f2023-06-27T17:00:34.057Z.jpg_7.png</td>\n",
       "      <td>Stage-6_Soil</td>\n",
       "      <td>4</td>\n",
       "      <td>2023-06-27T17:00:34.057Z</td>\n",
       "      <td>7</td>\n",
       "    </tr>\n",
       "    <tr>\n",
       "      <th>4465</th>\n",
       "      <td>cam4_f2023-06-27T17:00:34.057Z.jpg_8.png</td>\n",
       "      <td>Stage-6_Soil</td>\n",
       "      <td>4</td>\n",
       "      <td>2023-06-27T17:00:34.057Z</td>\n",
       "      <td>8</td>\n",
       "    </tr>\n",
       "    <tr>\n",
       "      <th>4466</th>\n",
       "      <td>cam4_f2023-06-27T17:00:34.057Z.jpg_9.png</td>\n",
       "      <td>Stage-6_Soil</td>\n",
       "      <td>4</td>\n",
       "      <td>2023-06-27T17:00:34.057Z</td>\n",
       "      <td>9</td>\n",
       "    </tr>\n",
       "  </tbody>\n",
       "</table>\n",
       "<p>3565 rows × 5 columns</p>\n",
       "</div>"
      ],
      "text/plain": [
       "                                    image_name          label  c  \\\n",
       "0     cam1_f2023-05-30T10:30:13.705Z.jpg_0.png  Stage-1_Rebar  1   \n",
       "1     cam1_f2023-05-30T10:30:13.705Z.jpg_1.png  Stage-1_Rebar  1   \n",
       "2     cam1_f2023-05-30T10:30:13.705Z.jpg_2.png  Stage-1_Rebar  1   \n",
       "3     cam1_f2023-05-30T10:30:13.705Z.jpg_3.png  Stage-1_Rebar  1   \n",
       "4     cam1_f2023-05-30T10:30:13.705Z.jpg_4.png  Stage-1_Rebar  1   \n",
       "...                                        ...            ... ..   \n",
       "4462  cam4_f2023-06-27T17:00:34.057Z.jpg_5.png   Stage-6_Soil  4   \n",
       "4463  cam4_f2023-06-27T17:00:34.057Z.jpg_6.png   Stage-6_Soil  4   \n",
       "4464  cam4_f2023-06-27T17:00:34.057Z.jpg_7.png   Stage-6_Soil  4   \n",
       "4465  cam4_f2023-06-27T17:00:34.057Z.jpg_8.png   Stage-6_Soil  4   \n",
       "4466  cam4_f2023-06-27T17:00:34.057Z.jpg_9.png   Stage-6_Soil  4   \n",
       "\n",
       "                             t  j  \n",
       "0     2023-05-30T10:30:13.705Z  0  \n",
       "1     2023-05-30T10:30:13.705Z  1  \n",
       "2     2023-05-30T10:30:13.705Z  2  \n",
       "3     2023-05-30T10:30:13.705Z  3  \n",
       "4     2023-05-30T10:30:13.705Z  4  \n",
       "...                        ... ..  \n",
       "4462  2023-06-27T17:00:34.057Z  5  \n",
       "4463  2023-06-27T17:00:34.057Z  6  \n",
       "4464  2023-06-27T17:00:34.057Z  7  \n",
       "4465  2023-06-27T17:00:34.057Z  8  \n",
       "4466  2023-06-27T17:00:34.057Z  9  \n",
       "\n",
       "[3565 rows x 5 columns]"
      ]
     },
     "execution_count": 19,
     "metadata": {},
     "output_type": "execute_result"
    }
   ],
   "source": [
    "clean_df"
   ]
  },
  {
   "cell_type": "code",
   "execution_count": 23,
   "id": "duplicate-commons",
   "metadata": {},
   "outputs": [],
   "source": [
    "clean_df['cj'] = 100*clean_df['c'] + clean_df['j']"
   ]
  },
  {
   "cell_type": "code",
   "execution_count": 24,
   "id": "express-roads",
   "metadata": {},
   "outputs": [
    {
     "data": {
      "text/html": [
       "<div>\n",
       "<style scoped>\n",
       "    .dataframe tbody tr th:only-of-type {\n",
       "        vertical-align: middle;\n",
       "    }\n",
       "\n",
       "    .dataframe tbody tr th {\n",
       "        vertical-align: top;\n",
       "    }\n",
       "\n",
       "    .dataframe thead th {\n",
       "        text-align: right;\n",
       "    }\n",
       "</style>\n",
       "<table border=\"1\" class=\"dataframe\">\n",
       "  <thead>\n",
       "    <tr style=\"text-align: right;\">\n",
       "      <th></th>\n",
       "      <th>image_name</th>\n",
       "      <th>label</th>\n",
       "      <th>c</th>\n",
       "      <th>t</th>\n",
       "      <th>j</th>\n",
       "      <th>cj</th>\n",
       "    </tr>\n",
       "  </thead>\n",
       "  <tbody>\n",
       "    <tr>\n",
       "      <th>0</th>\n",
       "      <td>cam1_f2023-05-30T10:30:13.705Z.jpg_0.png</td>\n",
       "      <td>Stage-1_Rebar</td>\n",
       "      <td>1</td>\n",
       "      <td>2023-05-30T10:30:13.705Z</td>\n",
       "      <td>0</td>\n",
       "      <td>100</td>\n",
       "    </tr>\n",
       "    <tr>\n",
       "      <th>1</th>\n",
       "      <td>cam1_f2023-05-30T10:30:13.705Z.jpg_1.png</td>\n",
       "      <td>Stage-1_Rebar</td>\n",
       "      <td>1</td>\n",
       "      <td>2023-05-30T10:30:13.705Z</td>\n",
       "      <td>1</td>\n",
       "      <td>101</td>\n",
       "    </tr>\n",
       "    <tr>\n",
       "      <th>2</th>\n",
       "      <td>cam1_f2023-05-30T10:30:13.705Z.jpg_2.png</td>\n",
       "      <td>Stage-1_Rebar</td>\n",
       "      <td>1</td>\n",
       "      <td>2023-05-30T10:30:13.705Z</td>\n",
       "      <td>2</td>\n",
       "      <td>102</td>\n",
       "    </tr>\n",
       "    <tr>\n",
       "      <th>3</th>\n",
       "      <td>cam1_f2023-05-30T10:30:13.705Z.jpg_3.png</td>\n",
       "      <td>Stage-1_Rebar</td>\n",
       "      <td>1</td>\n",
       "      <td>2023-05-30T10:30:13.705Z</td>\n",
       "      <td>3</td>\n",
       "      <td>103</td>\n",
       "    </tr>\n",
       "    <tr>\n",
       "      <th>4</th>\n",
       "      <td>cam1_f2023-05-30T10:30:13.705Z.jpg_4.png</td>\n",
       "      <td>Stage-1_Rebar</td>\n",
       "      <td>1</td>\n",
       "      <td>2023-05-30T10:30:13.705Z</td>\n",
       "      <td>4</td>\n",
       "      <td>104</td>\n",
       "    </tr>\n",
       "    <tr>\n",
       "      <th>...</th>\n",
       "      <td>...</td>\n",
       "      <td>...</td>\n",
       "      <td>...</td>\n",
       "      <td>...</td>\n",
       "      <td>...</td>\n",
       "      <td>...</td>\n",
       "    </tr>\n",
       "    <tr>\n",
       "      <th>4462</th>\n",
       "      <td>cam4_f2023-06-27T17:00:34.057Z.jpg_5.png</td>\n",
       "      <td>Stage-6_Soil</td>\n",
       "      <td>4</td>\n",
       "      <td>2023-06-27T17:00:34.057Z</td>\n",
       "      <td>5</td>\n",
       "      <td>405</td>\n",
       "    </tr>\n",
       "    <tr>\n",
       "      <th>4463</th>\n",
       "      <td>cam4_f2023-06-27T17:00:34.057Z.jpg_6.png</td>\n",
       "      <td>Stage-6_Soil</td>\n",
       "      <td>4</td>\n",
       "      <td>2023-06-27T17:00:34.057Z</td>\n",
       "      <td>6</td>\n",
       "      <td>406</td>\n",
       "    </tr>\n",
       "    <tr>\n",
       "      <th>4464</th>\n",
       "      <td>cam4_f2023-06-27T17:00:34.057Z.jpg_7.png</td>\n",
       "      <td>Stage-6_Soil</td>\n",
       "      <td>4</td>\n",
       "      <td>2023-06-27T17:00:34.057Z</td>\n",
       "      <td>7</td>\n",
       "      <td>407</td>\n",
       "    </tr>\n",
       "    <tr>\n",
       "      <th>4465</th>\n",
       "      <td>cam4_f2023-06-27T17:00:34.057Z.jpg_8.png</td>\n",
       "      <td>Stage-6_Soil</td>\n",
       "      <td>4</td>\n",
       "      <td>2023-06-27T17:00:34.057Z</td>\n",
       "      <td>8</td>\n",
       "      <td>408</td>\n",
       "    </tr>\n",
       "    <tr>\n",
       "      <th>4466</th>\n",
       "      <td>cam4_f2023-06-27T17:00:34.057Z.jpg_9.png</td>\n",
       "      <td>Stage-6_Soil</td>\n",
       "      <td>4</td>\n",
       "      <td>2023-06-27T17:00:34.057Z</td>\n",
       "      <td>9</td>\n",
       "      <td>409</td>\n",
       "    </tr>\n",
       "  </tbody>\n",
       "</table>\n",
       "<p>3565 rows × 6 columns</p>\n",
       "</div>"
      ],
      "text/plain": [
       "                                    image_name          label  c  \\\n",
       "0     cam1_f2023-05-30T10:30:13.705Z.jpg_0.png  Stage-1_Rebar  1   \n",
       "1     cam1_f2023-05-30T10:30:13.705Z.jpg_1.png  Stage-1_Rebar  1   \n",
       "2     cam1_f2023-05-30T10:30:13.705Z.jpg_2.png  Stage-1_Rebar  1   \n",
       "3     cam1_f2023-05-30T10:30:13.705Z.jpg_3.png  Stage-1_Rebar  1   \n",
       "4     cam1_f2023-05-30T10:30:13.705Z.jpg_4.png  Stage-1_Rebar  1   \n",
       "...                                        ...            ... ..   \n",
       "4462  cam4_f2023-06-27T17:00:34.057Z.jpg_5.png   Stage-6_Soil  4   \n",
       "4463  cam4_f2023-06-27T17:00:34.057Z.jpg_6.png   Stage-6_Soil  4   \n",
       "4464  cam4_f2023-06-27T17:00:34.057Z.jpg_7.png   Stage-6_Soil  4   \n",
       "4465  cam4_f2023-06-27T17:00:34.057Z.jpg_8.png   Stage-6_Soil  4   \n",
       "4466  cam4_f2023-06-27T17:00:34.057Z.jpg_9.png   Stage-6_Soil  4   \n",
       "\n",
       "                             t  j   cj  \n",
       "0     2023-05-30T10:30:13.705Z  0  100  \n",
       "1     2023-05-30T10:30:13.705Z  1  101  \n",
       "2     2023-05-30T10:30:13.705Z  2  102  \n",
       "3     2023-05-30T10:30:13.705Z  3  103  \n",
       "4     2023-05-30T10:30:13.705Z  4  104  \n",
       "...                        ... ..  ...  \n",
       "4462  2023-06-27T17:00:34.057Z  5  405  \n",
       "4463  2023-06-27T17:00:34.057Z  6  406  \n",
       "4464  2023-06-27T17:00:34.057Z  7  407  \n",
       "4465  2023-06-27T17:00:34.057Z  8  408  \n",
       "4466  2023-06-27T17:00:34.057Z  9  409  \n",
       "\n",
       "[3565 rows x 6 columns]"
      ]
     },
     "execution_count": 24,
     "metadata": {},
     "output_type": "execute_result"
    }
   ],
   "source": [
    "clean_df"
   ]
  },
  {
   "cell_type": "code",
   "execution_count": 25,
   "id": "fatty-customer",
   "metadata": {},
   "outputs": [],
   "source": [
    "clean_df.to_csv('data/processed_data/clean_labels.csv')"
   ]
  },
  {
   "cell_type": "code",
   "execution_count": 31,
   "id": "isolated-recall",
   "metadata": {},
   "outputs": [],
   "source": [
    "objects = clean_df['cj'].unique()"
   ]
  },
  {
   "cell_type": "code",
   "execution_count": 42,
   "id": "turkish-arthur",
   "metadata": {},
   "outputs": [
    {
     "data": {
      "text/plain": [
       "array([100, 101, 102, 103, 104, 105, 106, 107, 108, 109, 200, 201, 202,\n",
       "       203, 204, 205, 206, 207, 208, 209, 300, 301, 310, 311, 312, 302,\n",
       "       303, 304, 305, 306, 307, 308, 309, 400, 401, 410, 411, 412, 413,\n",
       "       414, 415, 416, 417, 418, 419, 402, 420, 421, 403, 404, 405, 406,\n",
       "       407, 408, 409])"
      ]
     },
     "execution_count": 42,
     "metadata": {},
     "output_type": "execute_result"
    }
   ],
   "source": [
    "objects"
   ]
  },
  {
   "cell_type": "code",
   "execution_count": 49,
   "id": "determined-dance",
   "metadata": {},
   "outputs": [],
   "source": [
    "num_test_values = int(0.2 * len(objects))\n"
   ]
  },
  {
   "cell_type": "code",
   "execution_count": 50,
   "id": "sustainable-sword",
   "metadata": {},
   "outputs": [],
   "source": [
    "import numpy as np"
   ]
  },
  {
   "cell_type": "code",
   "execution_count": 59,
   "id": "meaning-deposit",
   "metadata": {},
   "outputs": [],
   "source": [
    "test_values = np.random.choice(objects, num_test_values, replace=False)"
   ]
  },
  {
   "cell_type": "code",
   "execution_count": 63,
   "id": "organized-somalia",
   "metadata": {},
   "outputs": [
    {
     "data": {
      "text/plain": [
       "array([107, 208, 402, 105, 419, 209, 301, 310, 202, 309, 401])"
      ]
     },
     "execution_count": 63,
     "metadata": {},
     "output_type": "execute_result"
    }
   ],
   "source": [
    "test_values"
   ]
  },
  {
   "cell_type": "code",
   "execution_count": null,
   "id": "graphic-antigua",
   "metadata": {},
   "outputs": [],
   "source": [
    "val_values = no.random.choice(np.setdiff1d(a, b), )"
   ]
  },
  {
   "cell_type": "code",
   "execution_count": 66,
   "id": "macro-exhibition",
   "metadata": {},
   "outputs": [],
   "source": [
    "train_val_values = np.setdiff1d(objects, test_values)"
   ]
  },
  {
   "cell_type": "code",
   "execution_count": 68,
   "id": "above-composition",
   "metadata": {},
   "outputs": [],
   "source": [
    "num_val_values = int(0.2*0.8*len(objects))"
   ]
  },
  {
   "cell_type": "code",
   "execution_count": 69,
   "id": "known-perry",
   "metadata": {},
   "outputs": [],
   "source": [
    "val_values = np.random.choice(train_val_values, num_val_values, replace=False)"
   ]
  },
  {
   "cell_type": "code",
   "execution_count": 76,
   "id": "taken-exposure",
   "metadata": {},
   "outputs": [],
   "source": [
    "def determine_split(x):\n",
    "    if x in test_values:\n",
    "        return 'test'\n",
    "    elif x in val_values:\n",
    "        return 'val'\n",
    "    else:\n",
    "        return 'train'"
   ]
  },
  {
   "cell_type": "code",
   "execution_count": 77,
   "id": "worse-canberra",
   "metadata": {},
   "outputs": [],
   "source": [
    "clean_df['split'] = clean_df['cj'].apply(determine_split)"
   ]
  },
  {
   "cell_type": "code",
   "execution_count": 78,
   "id": "removed-confidentiality",
   "metadata": {},
   "outputs": [
    {
     "data": {
      "text/html": [
       "<div>\n",
       "<style scoped>\n",
       "    .dataframe tbody tr th:only-of-type {\n",
       "        vertical-align: middle;\n",
       "    }\n",
       "\n",
       "    .dataframe tbody tr th {\n",
       "        vertical-align: top;\n",
       "    }\n",
       "\n",
       "    .dataframe thead th {\n",
       "        text-align: right;\n",
       "    }\n",
       "</style>\n",
       "<table border=\"1\" class=\"dataframe\">\n",
       "  <thead>\n",
       "    <tr style=\"text-align: right;\">\n",
       "      <th></th>\n",
       "      <th>image_name</th>\n",
       "      <th>label</th>\n",
       "      <th>c</th>\n",
       "      <th>t</th>\n",
       "      <th>j</th>\n",
       "      <th>cj</th>\n",
       "      <th>split</th>\n",
       "    </tr>\n",
       "  </thead>\n",
       "  <tbody>\n",
       "    <tr>\n",
       "      <th>0</th>\n",
       "      <td>cam1_f2023-05-30T10:30:13.705Z.jpg_0.png</td>\n",
       "      <td>Stage-1_Rebar</td>\n",
       "      <td>1</td>\n",
       "      <td>2023-05-30T10:30:13.705Z</td>\n",
       "      <td>0</td>\n",
       "      <td>100</td>\n",
       "      <td>train</td>\n",
       "    </tr>\n",
       "    <tr>\n",
       "      <th>1</th>\n",
       "      <td>cam1_f2023-05-30T10:30:13.705Z.jpg_1.png</td>\n",
       "      <td>Stage-1_Rebar</td>\n",
       "      <td>1</td>\n",
       "      <td>2023-05-30T10:30:13.705Z</td>\n",
       "      <td>1</td>\n",
       "      <td>101</td>\n",
       "      <td>train</td>\n",
       "    </tr>\n",
       "    <tr>\n",
       "      <th>2</th>\n",
       "      <td>cam1_f2023-05-30T10:30:13.705Z.jpg_2.png</td>\n",
       "      <td>Stage-1_Rebar</td>\n",
       "      <td>1</td>\n",
       "      <td>2023-05-30T10:30:13.705Z</td>\n",
       "      <td>2</td>\n",
       "      <td>102</td>\n",
       "      <td>train</td>\n",
       "    </tr>\n",
       "    <tr>\n",
       "      <th>3</th>\n",
       "      <td>cam1_f2023-05-30T10:30:13.705Z.jpg_3.png</td>\n",
       "      <td>Stage-1_Rebar</td>\n",
       "      <td>1</td>\n",
       "      <td>2023-05-30T10:30:13.705Z</td>\n",
       "      <td>3</td>\n",
       "      <td>103</td>\n",
       "      <td>val</td>\n",
       "    </tr>\n",
       "    <tr>\n",
       "      <th>4</th>\n",
       "      <td>cam1_f2023-05-30T10:30:13.705Z.jpg_4.png</td>\n",
       "      <td>Stage-1_Rebar</td>\n",
       "      <td>1</td>\n",
       "      <td>2023-05-30T10:30:13.705Z</td>\n",
       "      <td>4</td>\n",
       "      <td>104</td>\n",
       "      <td>train</td>\n",
       "    </tr>\n",
       "    <tr>\n",
       "      <th>...</th>\n",
       "      <td>...</td>\n",
       "      <td>...</td>\n",
       "      <td>...</td>\n",
       "      <td>...</td>\n",
       "      <td>...</td>\n",
       "      <td>...</td>\n",
       "      <td>...</td>\n",
       "    </tr>\n",
       "    <tr>\n",
       "      <th>4462</th>\n",
       "      <td>cam4_f2023-06-27T17:00:34.057Z.jpg_5.png</td>\n",
       "      <td>Stage-6_Soil</td>\n",
       "      <td>4</td>\n",
       "      <td>2023-06-27T17:00:34.057Z</td>\n",
       "      <td>5</td>\n",
       "      <td>405</td>\n",
       "      <td>val</td>\n",
       "    </tr>\n",
       "    <tr>\n",
       "      <th>4463</th>\n",
       "      <td>cam4_f2023-06-27T17:00:34.057Z.jpg_6.png</td>\n",
       "      <td>Stage-6_Soil</td>\n",
       "      <td>4</td>\n",
       "      <td>2023-06-27T17:00:34.057Z</td>\n",
       "      <td>6</td>\n",
       "      <td>406</td>\n",
       "      <td>train</td>\n",
       "    </tr>\n",
       "    <tr>\n",
       "      <th>4464</th>\n",
       "      <td>cam4_f2023-06-27T17:00:34.057Z.jpg_7.png</td>\n",
       "      <td>Stage-6_Soil</td>\n",
       "      <td>4</td>\n",
       "      <td>2023-06-27T17:00:34.057Z</td>\n",
       "      <td>7</td>\n",
       "      <td>407</td>\n",
       "      <td>train</td>\n",
       "    </tr>\n",
       "    <tr>\n",
       "      <th>4465</th>\n",
       "      <td>cam4_f2023-06-27T17:00:34.057Z.jpg_8.png</td>\n",
       "      <td>Stage-6_Soil</td>\n",
       "      <td>4</td>\n",
       "      <td>2023-06-27T17:00:34.057Z</td>\n",
       "      <td>8</td>\n",
       "      <td>408</td>\n",
       "      <td>train</td>\n",
       "    </tr>\n",
       "    <tr>\n",
       "      <th>4466</th>\n",
       "      <td>cam4_f2023-06-27T17:00:34.057Z.jpg_9.png</td>\n",
       "      <td>Stage-6_Soil</td>\n",
       "      <td>4</td>\n",
       "      <td>2023-06-27T17:00:34.057Z</td>\n",
       "      <td>9</td>\n",
       "      <td>409</td>\n",
       "      <td>train</td>\n",
       "    </tr>\n",
       "  </tbody>\n",
       "</table>\n",
       "<p>3565 rows × 7 columns</p>\n",
       "</div>"
      ],
      "text/plain": [
       "                                    image_name          label  c  \\\n",
       "0     cam1_f2023-05-30T10:30:13.705Z.jpg_0.png  Stage-1_Rebar  1   \n",
       "1     cam1_f2023-05-30T10:30:13.705Z.jpg_1.png  Stage-1_Rebar  1   \n",
       "2     cam1_f2023-05-30T10:30:13.705Z.jpg_2.png  Stage-1_Rebar  1   \n",
       "3     cam1_f2023-05-30T10:30:13.705Z.jpg_3.png  Stage-1_Rebar  1   \n",
       "4     cam1_f2023-05-30T10:30:13.705Z.jpg_4.png  Stage-1_Rebar  1   \n",
       "...                                        ...            ... ..   \n",
       "4462  cam4_f2023-06-27T17:00:34.057Z.jpg_5.png   Stage-6_Soil  4   \n",
       "4463  cam4_f2023-06-27T17:00:34.057Z.jpg_6.png   Stage-6_Soil  4   \n",
       "4464  cam4_f2023-06-27T17:00:34.057Z.jpg_7.png   Stage-6_Soil  4   \n",
       "4465  cam4_f2023-06-27T17:00:34.057Z.jpg_8.png   Stage-6_Soil  4   \n",
       "4466  cam4_f2023-06-27T17:00:34.057Z.jpg_9.png   Stage-6_Soil  4   \n",
       "\n",
       "                             t  j   cj  split  \n",
       "0     2023-05-30T10:30:13.705Z  0  100  train  \n",
       "1     2023-05-30T10:30:13.705Z  1  101  train  \n",
       "2     2023-05-30T10:30:13.705Z  2  102  train  \n",
       "3     2023-05-30T10:30:13.705Z  3  103    val  \n",
       "4     2023-05-30T10:30:13.705Z  4  104  train  \n",
       "...                        ... ..  ...    ...  \n",
       "4462  2023-06-27T17:00:34.057Z  5  405    val  \n",
       "4463  2023-06-27T17:00:34.057Z  6  406  train  \n",
       "4464  2023-06-27T17:00:34.057Z  7  407  train  \n",
       "4465  2023-06-27T17:00:34.057Z  8  408  train  \n",
       "4466  2023-06-27T17:00:34.057Z  9  409  train  \n",
       "\n",
       "[3565 rows x 7 columns]"
      ]
     },
     "execution_count": 78,
     "metadata": {},
     "output_type": "execute_result"
    }
   ],
   "source": [
    "clean_df"
   ]
  },
  {
   "cell_type": "code",
   "execution_count": 80,
   "id": "posted-exchange",
   "metadata": {},
   "outputs": [],
   "source": [
    "clean_df.to_csv('data/processed_data/clean_labels.csv')"
   ]
  }
 ],
 "metadata": {
  "kernelspec": {
   "display_name": "Python 3",
   "language": "python",
   "name": "python3"
  },
  "language_info": {
   "codemirror_mode": {
    "name": "ipython",
    "version": 3
   },
   "file_extension": ".py",
   "mimetype": "text/x-python",
   "name": "python",
   "nbconvert_exporter": "python",
   "pygments_lexer": "ipython3",
   "version": "3.8.8"
  }
 },
 "nbformat": 4,
 "nbformat_minor": 5
}
